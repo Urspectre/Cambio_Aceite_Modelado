{
 "cells": [
  {
   "cell_type": "markdown",
   "id": "09d0c201",
   "metadata": {},
   "source": [
    "**MODELO PARA LA GENERACION DE DATOS ALEATORIOS PARA TIEMPOS DEL PROCESO DE CAMBIO DE ACEITE EN CARROS**"
   ]
  },
  {
   "cell_type": "code",
   "execution_count": 3,
   "id": "a2b531be",
   "metadata": {},
   "outputs": [
    {
     "name": "stdout",
     "output_type": "stream",
     "text": [
      "\n",
      "=== RESULTADOS DE LA SIMULACIÓN ===\n",
      "Llegadas): [2, 1, 2, 4, 2, 2, 1, 3, 2, 3, 4, 3, 3, 4, 2, 6, 1, 3, 2, 1, 1, 1, 1, 2, 7, 4, 3, 2, 2, 3, 2, 6, 2, 1, 3, 1, 3, 0, 2, 1, 3, 2, 3, 4, 6, 3, 2, 2, 2, 2, 2, 2, 2, 3, 3, 4, 2, 2, 3, 0, 6, 7, 3, 4, 3, 2, 2, 2, 1, 3, 6, 2, 5, 0, 4, 0, 4, 2, 3, 1, 1, 3, 4, 0, 3, 3, 3, 5, 2, 8, 4, 3, 2, 7, 5, 4, 4, 5, 5, 3]\n",
      "Horas entre llegadas: [0.71, 0.48, 6.18, 4.58, 3.22, 0.19, 1.19, 4.23, 0.15, 2.09, 0.89, 1.54, 0.33, 2.37, 0.22, 6.11, 3.6, 1.01, 5.15, 2.67, 2.41, 0.76, 4.13, 3.78, 4.86, 0.71, 0.7, 0.13, 1.15, 1.16, 1.48, 2.0, 3.07, 1.41, 9.95, 0.85, 0.08, 1.3, 7.6, 2.89, 2.57, 0.4, 3.18, 5.67, 1.03, 0.27, 2.9, 2.99, 0.36, 0.25, 1.31, 0.05, 9.92, 0.84, 4.54, 2.5, 3.65, 1.52, 0.03, 1.84, 1.99, 2.35, 7.0, 1.27, 2.35, 0.03, 1.63, 5.43, 0.25, 0.95, 0.47, 3.94, 0.89, 1.49, 2.59, 0.77, 0.06, 0.4, 3.26, 0.51, 1.02, 7.83, 3.9, 0.61, 3.75, 3.49, 0.1, 2.92, 4.07, 2.4, 0.59, 1.88, 4.95, 1.16, 1.49, 2.99, 0.35, 7.82, 3.85, 0.25]\n",
      "Minutos de servicio ): [21.12, 20.74, 21.68, 22.76, 15.86, 15.82, 18.0, 26.09, 18.56, 19.9, 18.98, 20.91, 19.6, 24.31, 16.42, 17.7, 17.91, 19.8, 12.44, 20.06, 21.02, 21.89, 22.83, 20.35, 24.19, 23.59, 19.8, 19.68, 18.26, 13.08, 18.95, 19.27, 22.56, 22.97, 15.52, 23.4, 15.76, 18.98, 23.32, 20.33, 24.04, 19.88, 20.79, 20.82, 19.49, 16.17, 18.83, 20.54, 25.71, 21.24, 19.87, 19.79, 18.73, 21.42, 14.94, 26.32, 22.29, 20.5, 23.03, 24.14, 19.94, 25.94, 23.05, 17.85, 22.12, 22.94, 17.57, 17.77, 19.17, 15.22, 24.08, 15.38, 26.37, 22.98, 17.54, 20.54, 25.71, 21.24, 19.87, 19.79, 18.73, 21.42, 14.94, 26.32, 22.29, 20.5, 23.03, 24.14, 19.94, 25.94, 23.05, 17.85, 22.12, 22.94, 17.57, 17.77, 19.17, 15.22, 24.08, 15.38]\n"
     ]
    }
   ],
   "source": [
    "import math\n",
    "import random\n",
    "import time\n",
    "\n",
    "# === Generador base (producto constante) ===\n",
    "def multiplicador_constante(semilla, a, d, n):\n",
    "    numeros = []\n",
    "    x = semilla\n",
    "    for _ in range(n):\n",
    "        producto = x * a\n",
    "        producto_str = str(producto).zfill(2 * d)\n",
    "        inicio = (len(producto_str) - d) // 2\n",
    "        fin = inicio + d\n",
    "        x = int(producto_str[inicio:fin])\n",
    "        numeros.append(x)\n",
    "    return numeros\n",
    "\n",
    "# Normalizar a [0,1]\n",
    "def uniformes(semilla, a, d, n):\n",
    "    base = multiplicador_constante(semilla, a, d, n)\n",
    "    return [x / (10**d - 1) for x in base]\n",
    "\n",
    "\n",
    "# === Distribuciones ===\n",
    "def poisson(semilla, a, d, n, lam):\n",
    "    resultados = []\n",
    "    for _ in range(n):\n",
    "        L = math.exp(-lam)\n",
    "        k, p = 0, 1\n",
    "        while p > L:\n",
    "            k += 1\n",
    "            p *= random.random()\n",
    "        resultados.append(k - 1)\n",
    "    return resultados\n",
    "\n",
    "def exponencial(semilla, a, d, n, lam):\n",
    "    u = uniformes(semilla, a, d, n)\n",
    "    return [-(1/lam) * math.log(1 - ui) for ui in u]\n",
    "\n",
    "def normal(semilla, a, d, n, mu, sigma):\n",
    "    u = uniformes(semilla, a, d, 2*n)\n",
    "    resultados = []\n",
    "    for i in range(0, len(u), 2):\n",
    "        z = math.sqrt(-2 * math.log(u[i])) * math.cos(2 * math.pi * u[i+1])\n",
    "        resultados.append(mu + sigma * z)\n",
    "    return resultados[:n]\n",
    "\n",
    "\n",
    "# =================== SIMULACIÓN ===================\n",
    "def simulacion():\n",
    "    # Inputs fijos del generador\n",
    "    a = 3761\n",
    "    d = 4\n",
    "\n",
    "    # Cada ejecución usa la hora actual como semilla\n",
    "    semilla = int(time.time()) % 10000  \n",
    "\n",
    "    # Usuario selecciona cantidad de datos\n",
    "    n = int(input(\"Ingrese la cantidad de horas/días a simular: \"))\n",
    "\n",
    "    # Generación de datos\n",
    "    llegadas = poisson(semilla, a, d, n, lam=3)            # Cantidad de vehículos\n",
    "    entre_llegadas = exponencial(semilla, a, d, n, lam=0.5) # Tiempos entre llegadas\n",
    "    servicio = normal(semilla, a, d, n, mu=20, sigma=3)     # Tiempo de servicio\n",
    "\n",
    "    # Mostrar resultados\n",
    "    print(\"\\n=== RESULTADOS DE LA SIMULACIÓN ===\")\n",
    "    print(\"Llegadas):\", llegadas) #(Poisson, λ=3)\n",
    "    print(\"Horas entre llegadas:\", [round(x,2) for x in entre_llegadas]) #(Exponencial, λ=0.5)\n",
    "    print(\"Minutos de servicio ):\", [round(x,2) for x in servicio]) #(Normal μ=20, σ=3\n",
    "\n",
    "\n",
    "# Ejecutar simulación\n",
    "if __name__ == \"__main__\":\n",
    "    simulacion()\n"
   ]
  },
  {
   "cell_type": "code",
   "execution_count": null,
   "id": "ced17dca",
   "metadata": {},
   "outputs": [],
   "source": []
  }
 ],
 "metadata": {
  "kernelspec": {
   "display_name": "Python 3",
   "language": "python",
   "name": "python3"
  },
  "language_info": {
   "codemirror_mode": {
    "name": "ipython",
    "version": 3
   },
   "file_extension": ".py",
   "mimetype": "text/x-python",
   "name": "python",
   "nbconvert_exporter": "python",
   "pygments_lexer": "ipython3",
   "version": "3.11.4"
  }
 },
 "nbformat": 4,
 "nbformat_minor": 5
}
